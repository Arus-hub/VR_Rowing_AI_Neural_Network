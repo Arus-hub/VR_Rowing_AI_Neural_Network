{
  "nbformat": 4,
  "nbformat_minor": 0,
  "metadata": {
    "colab": {
      "provenance": []
    },
    "kernelspec": {
      "name": "python3",
      "display_name": "Python 3"
    },
    "language_info": {
      "name": "python"
    }
  },
  "cells": [
    {
      "cell_type": "code",
      "execution_count": null,
      "metadata": {
        "id": "Uj_AgC8B1-_D"
      },
      "outputs": [],
      "source": [
        "import numpy as np\n",
        "import pandas as pd\n",
        "import matplotlib.pyplot as plt\n",
        "import glob\n",
        "import threading\n",
        "import tensorflow as tf\n",
        "from tensorflow.keras import layers\n",
        "from tensorflow.keras.layers.experimental import preprocessing"
      ]
    },
    {
      "cell_type": "code",
      "source": [
        "from google.colab import drive\n",
        "drive.mount('/content/drive')"
      ],
      "metadata": {
        "colab": {
          "base_uri": "https://localhost:8080/"
        },
        "id": "0L1_F19E2Gka",
        "outputId": "15b0d7a1-8029-4798-bd8b-070e58a5f139"
      },
      "execution_count": null,
      "outputs": [
        {
          "output_type": "stream",
          "name": "stdout",
          "text": [
            "Drive already mounted at /content/drive; to attempt to forcibly remount, call drive.mount(\"/content/drive\", force_remount=True).\n"
          ]
        }
      ]
    },
    {
      "cell_type": "code",
      "source": [],
      "metadata": {
        "id": "Gfl327of2QYd"
      },
      "execution_count": null,
      "outputs": []
    },
    {
      "cell_type": "code",
      "source": [
        "np.set_printoptions(precision=3, suppress=True)"
      ],
      "metadata": {
        "id": "N_gxh6rn9NxK"
      },
      "execution_count": null,
      "outputs": []
    },
    {
      "cell_type": "code",
      "source": [
        "df = pd.read_csv('/content/drive/My Drive/first.csv')\n",
        "df2 = pd.read_csv('/content/drive/My Drive/Second.csv')\n",
        "df3 = pd.read_csv('/content/drive/My Drive/final.csv')"
      ],
      "metadata": {
        "id": "qOo-sEOLBYjN"
      },
      "execution_count": null,
      "outputs": []
    },
    {
      "cell_type": "code",
      "source": [
        "df.count()"
      ],
      "metadata": {
        "colab": {
          "base_uri": "https://localhost:8080/"
        },
        "id": "Tb0pUqof8nA_",
        "outputId": "8f102c2e-c1d4-4fe6-ec82-72efecbc37ee"
      },
      "execution_count": null,
      "outputs": [
        {
          "output_type": "execute_result",
          "data": {
            "text/plain": [
              "CEP_x     11011\n",
              "CEP_y     11011\n",
              "CEP_z     11011\n",
              "CEP_w     11011\n",
              "CEV_x     11011\n",
              "CEV_y     11011\n",
              "CEV_z     11011\n",
              "CEV_w     11011\n",
              "CEA_x     11011\n",
              "CEA_y     11011\n",
              "CEA_z     11011\n",
              "CEA_w     11011\n",
              "CER_x     11011\n",
              "CER_y     11011\n",
              "CER_z     11011\n",
              "CER_w     11011\n",
              "CEAV_x    11011\n",
              "CEAV_y    11011\n",
              "CEAV_z    11011\n",
              "CEAV_w    11011\n",
              "LeftC     11011\n",
              "RightC    11011\n",
              "dtype: int64"
            ]
          },
          "metadata": {},
          "execution_count": 5
        }
      ]
    },
    {
      "cell_type": "code",
      "source": [
        "df2.count()"
      ],
      "metadata": {
        "colab": {
          "base_uri": "https://localhost:8080/"
        },
        "id": "52YqyUB2pOqm",
        "outputId": "a1c885b9-dbbf-4264-db66-6e5bd189ede1"
      },
      "execution_count": null,
      "outputs": [
        {
          "output_type": "execute_result",
          "data": {
            "text/plain": [
              "CEP_x      7520\n",
              "CEP_y      7520\n",
              "CEP_z      7520\n",
              "CEAV_x     7520\n",
              "CEAV_y     7520\n",
              "CEAV_z     7520\n",
              "Left_c     7520\n",
              "Right_c    7520\n",
              "dtype: int64"
            ]
          },
          "metadata": {},
          "execution_count": 6
        }
      ]
    },
    {
      "cell_type": "code",
      "source": [
        "df3.count()"
      ],
      "metadata": {
        "colab": {
          "base_uri": "https://localhost:8080/"
        },
        "id": "u7KnQKZ0pPAL",
        "outputId": "2ab4594f-b819-4568-9531-afc8a014c1d2"
      },
      "execution_count": null,
      "outputs": [
        {
          "output_type": "execute_result",
          "data": {
            "text/plain": [
              "CEP_x      14239\n",
              "CEP_y      14239\n",
              "CEP_z      14239\n",
              "CEAV_x     14239\n",
              "CEAV_y     14239\n",
              "CEAV_z     14239\n",
              "Left_c     14239\n",
              "Right_c    14239\n",
              "dtype: int64"
            ]
          },
          "metadata": {},
          "execution_count": 7
        }
      ]
    },
    {
      "cell_type": "code",
      "source": [
        "df3.columns"
      ],
      "metadata": {
        "colab": {
          "base_uri": "https://localhost:8080/"
        },
        "id": "luRS72t1pvVZ",
        "outputId": "3ad61147-cf7c-4389-a206-3cf685102e5c"
      },
      "execution_count": null,
      "outputs": [
        {
          "output_type": "execute_result",
          "data": {
            "text/plain": [
              "Index(['CEP_x', 'CEP_y', 'CEP_z', 'CEAV_x', 'CEAV_y', 'CEAV_z', 'Left_c',\n",
              "       'Right_c'],\n",
              "      dtype='object')"
            ]
          },
          "metadata": {},
          "execution_count": 8
        }
      ]
    },
    {
      "cell_type": "code",
      "source": [
        "df = df[['CEP_x', 'CEP_y', 'CEP_z', 'CEAV_x', 'CEAV_y', 'CEAV_z', 'LeftC', 'RightC']]"
      ],
      "metadata": {
        "id": "td4DwYNNpPIm"
      },
      "execution_count": null,
      "outputs": []
    },
    {
      "cell_type": "code",
      "source": [
        "df.rename(columns={'LeftC':'Left_c','RightC':'Right_c'},inplace=True)"
      ],
      "metadata": {
        "id": "viFuevvQr1Uq"
      },
      "execution_count": null,
      "outputs": []
    },
    {
      "cell_type": "code",
      "source": [
        "df.info()"
      ],
      "metadata": {
        "colab": {
          "base_uri": "https://localhost:8080/"
        },
        "id": "Wy8YIPw2sPpU",
        "outputId": "00ae211e-0227-45ac-855b-311339da6711"
      },
      "execution_count": null,
      "outputs": [
        {
          "output_type": "stream",
          "name": "stdout",
          "text": [
            "<class 'pandas.core.frame.DataFrame'>\n",
            "RangeIndex: 11011 entries, 0 to 11010\n",
            "Data columns (total 8 columns):\n",
            " #   Column   Non-Null Count  Dtype  \n",
            "---  ------   --------------  -----  \n",
            " 0   CEP_x    11011 non-null  float64\n",
            " 1   CEP_y    11011 non-null  float64\n",
            " 2   CEP_z    11011 non-null  float64\n",
            " 3   CEAV_x   11011 non-null  float64\n",
            " 4   CEAV_y   11011 non-null  float64\n",
            " 5   CEAV_z   11011 non-null  float64\n",
            " 6   Left_c   11011 non-null  int64  \n",
            " 7   Right_c  11011 non-null  int64  \n",
            "dtypes: float64(6), int64(2)\n",
            "memory usage: 688.3 KB\n"
          ]
        }
      ]
    },
    {
      "cell_type": "code",
      "source": [
        "c_df = pd.concat([df, df2,df3], axis=0)"
      ],
      "metadata": {
        "id": "bZkgJVJ6rMk6"
      },
      "execution_count": null,
      "outputs": []
    },
    {
      "cell_type": "code",
      "source": [
        "c_df.info()"
      ],
      "metadata": {
        "colab": {
          "base_uri": "https://localhost:8080/"
        },
        "id": "ov0v2UdVrMtB",
        "outputId": "dd1fe1b7-90f9-4020-cc17-7d597d3715ae"
      },
      "execution_count": null,
      "outputs": [
        {
          "output_type": "stream",
          "name": "stdout",
          "text": [
            "<class 'pandas.core.frame.DataFrame'>\n",
            "Int64Index: 32770 entries, 0 to 14238\n",
            "Data columns (total 8 columns):\n",
            " #   Column   Non-Null Count  Dtype  \n",
            "---  ------   --------------  -----  \n",
            " 0   CEP_x    32770 non-null  float64\n",
            " 1   CEP_y    32770 non-null  float64\n",
            " 2   CEP_z    32770 non-null  float64\n",
            " 3   CEAV_x   32770 non-null  float64\n",
            " 4   CEAV_y   32770 non-null  float64\n",
            " 5   CEAV_z   32770 non-null  float64\n",
            " 6   Left_c   32770 non-null  int64  \n",
            " 7   Right_c  32770 non-null  int64  \n",
            "dtypes: float64(6), int64(2)\n",
            "memory usage: 2.3 MB\n"
          ]
        }
      ]
    },
    {
      "cell_type": "code",
      "source": [
        "c_df"
      ],
      "metadata": {
        "colab": {
          "base_uri": "https://localhost:8080/",
          "height": 423
        },
        "id": "V0Ep89QLrM0q",
        "outputId": "f60c982e-9ba2-4dae-bb4f-53b43192d896"
      },
      "execution_count": null,
      "outputs": [
        {
          "output_type": "execute_result",
          "data": {
            "text/plain": [
              "       CEP_x  CEP_y  CEP_z  CEAV_x  CEAV_y  CEAV_z  Left_c  Right_c\n",
              "0      -0.02   0.89  -0.01    0.26    0.02    0.00       0        0\n",
              "1      -0.02   0.89  -0.01    0.21    0.01    0.00       0        0\n",
              "2      -0.02   0.89  -0.01    0.17    0.00    0.00       0        0\n",
              "3      -0.02   0.89  -0.01    0.13    0.00   -0.01       0        0\n",
              "4      -0.02   0.89  -0.01    0.10    0.00   -0.02       1        0\n",
              "...      ...    ...    ...     ...     ...     ...     ...      ...\n",
              "14234   0.02   0.88  -0.25   -0.98    0.10   -0.14       0        0\n",
              "14235   0.02   0.88  -0.24   -1.04    0.12   -0.12       0        0\n",
              "14236   0.01   0.87  -0.23   -1.08    0.14   -0.11       0        0\n",
              "14237   0.01   0.87  -0.23   -1.11    0.14   -0.11       0        0\n",
              "14238   0.01   0.87  -0.22   -1.13    0.13   -0.12       0        0\n",
              "\n",
              "[32770 rows x 8 columns]"
            ],
            "text/html": [
              "\n",
              "  <div id=\"df-03c0dd4d-9247-4008-98de-bbef3471c090\" class=\"colab-df-container\">\n",
              "    <div>\n",
              "<style scoped>\n",
              "    .dataframe tbody tr th:only-of-type {\n",
              "        vertical-align: middle;\n",
              "    }\n",
              "\n",
              "    .dataframe tbody tr th {\n",
              "        vertical-align: top;\n",
              "    }\n",
              "\n",
              "    .dataframe thead th {\n",
              "        text-align: right;\n",
              "    }\n",
              "</style>\n",
              "<table border=\"1\" class=\"dataframe\">\n",
              "  <thead>\n",
              "    <tr style=\"text-align: right;\">\n",
              "      <th></th>\n",
              "      <th>CEP_x</th>\n",
              "      <th>CEP_y</th>\n",
              "      <th>CEP_z</th>\n",
              "      <th>CEAV_x</th>\n",
              "      <th>CEAV_y</th>\n",
              "      <th>CEAV_z</th>\n",
              "      <th>Left_c</th>\n",
              "      <th>Right_c</th>\n",
              "    </tr>\n",
              "  </thead>\n",
              "  <tbody>\n",
              "    <tr>\n",
              "      <th>0</th>\n",
              "      <td>-0.02</td>\n",
              "      <td>0.89</td>\n",
              "      <td>-0.01</td>\n",
              "      <td>0.26</td>\n",
              "      <td>0.02</td>\n",
              "      <td>0.00</td>\n",
              "      <td>0</td>\n",
              "      <td>0</td>\n",
              "    </tr>\n",
              "    <tr>\n",
              "      <th>1</th>\n",
              "      <td>-0.02</td>\n",
              "      <td>0.89</td>\n",
              "      <td>-0.01</td>\n",
              "      <td>0.21</td>\n",
              "      <td>0.01</td>\n",
              "      <td>0.00</td>\n",
              "      <td>0</td>\n",
              "      <td>0</td>\n",
              "    </tr>\n",
              "    <tr>\n",
              "      <th>2</th>\n",
              "      <td>-0.02</td>\n",
              "      <td>0.89</td>\n",
              "      <td>-0.01</td>\n",
              "      <td>0.17</td>\n",
              "      <td>0.00</td>\n",
              "      <td>0.00</td>\n",
              "      <td>0</td>\n",
              "      <td>0</td>\n",
              "    </tr>\n",
              "    <tr>\n",
              "      <th>3</th>\n",
              "      <td>-0.02</td>\n",
              "      <td>0.89</td>\n",
              "      <td>-0.01</td>\n",
              "      <td>0.13</td>\n",
              "      <td>0.00</td>\n",
              "      <td>-0.01</td>\n",
              "      <td>0</td>\n",
              "      <td>0</td>\n",
              "    </tr>\n",
              "    <tr>\n",
              "      <th>4</th>\n",
              "      <td>-0.02</td>\n",
              "      <td>0.89</td>\n",
              "      <td>-0.01</td>\n",
              "      <td>0.10</td>\n",
              "      <td>0.00</td>\n",
              "      <td>-0.02</td>\n",
              "      <td>1</td>\n",
              "      <td>0</td>\n",
              "    </tr>\n",
              "    <tr>\n",
              "      <th>...</th>\n",
              "      <td>...</td>\n",
              "      <td>...</td>\n",
              "      <td>...</td>\n",
              "      <td>...</td>\n",
              "      <td>...</td>\n",
              "      <td>...</td>\n",
              "      <td>...</td>\n",
              "      <td>...</td>\n",
              "    </tr>\n",
              "    <tr>\n",
              "      <th>14234</th>\n",
              "      <td>0.02</td>\n",
              "      <td>0.88</td>\n",
              "      <td>-0.25</td>\n",
              "      <td>-0.98</td>\n",
              "      <td>0.10</td>\n",
              "      <td>-0.14</td>\n",
              "      <td>0</td>\n",
              "      <td>0</td>\n",
              "    </tr>\n",
              "    <tr>\n",
              "      <th>14235</th>\n",
              "      <td>0.02</td>\n",
              "      <td>0.88</td>\n",
              "      <td>-0.24</td>\n",
              "      <td>-1.04</td>\n",
              "      <td>0.12</td>\n",
              "      <td>-0.12</td>\n",
              "      <td>0</td>\n",
              "      <td>0</td>\n",
              "    </tr>\n",
              "    <tr>\n",
              "      <th>14236</th>\n",
              "      <td>0.01</td>\n",
              "      <td>0.87</td>\n",
              "      <td>-0.23</td>\n",
              "      <td>-1.08</td>\n",
              "      <td>0.14</td>\n",
              "      <td>-0.11</td>\n",
              "      <td>0</td>\n",
              "      <td>0</td>\n",
              "    </tr>\n",
              "    <tr>\n",
              "      <th>14237</th>\n",
              "      <td>0.01</td>\n",
              "      <td>0.87</td>\n",
              "      <td>-0.23</td>\n",
              "      <td>-1.11</td>\n",
              "      <td>0.14</td>\n",
              "      <td>-0.11</td>\n",
              "      <td>0</td>\n",
              "      <td>0</td>\n",
              "    </tr>\n",
              "    <tr>\n",
              "      <th>14238</th>\n",
              "      <td>0.01</td>\n",
              "      <td>0.87</td>\n",
              "      <td>-0.22</td>\n",
              "      <td>-1.13</td>\n",
              "      <td>0.13</td>\n",
              "      <td>-0.12</td>\n",
              "      <td>0</td>\n",
              "      <td>0</td>\n",
              "    </tr>\n",
              "  </tbody>\n",
              "</table>\n",
              "<p>32770 rows × 8 columns</p>\n",
              "</div>\n",
              "    <div class=\"colab-df-buttons\">\n",
              "\n",
              "  <div class=\"colab-df-container\">\n",
              "    <button class=\"colab-df-convert\" onclick=\"convertToInteractive('df-03c0dd4d-9247-4008-98de-bbef3471c090')\"\n",
              "            title=\"Convert this dataframe to an interactive table.\"\n",
              "            style=\"display:none;\">\n",
              "\n",
              "  <svg xmlns=\"http://www.w3.org/2000/svg\" height=\"24px\" viewBox=\"0 -960 960 960\">\n",
              "    <path d=\"M120-120v-720h720v720H120Zm60-500h600v-160H180v160Zm220 220h160v-160H400v160Zm0 220h160v-160H400v160ZM180-400h160v-160H180v160Zm440 0h160v-160H620v160ZM180-180h160v-160H180v160Zm440 0h160v-160H620v160Z\"/>\n",
              "  </svg>\n",
              "    </button>\n",
              "\n",
              "  <style>\n",
              "    .colab-df-container {\n",
              "      display:flex;\n",
              "      gap: 12px;\n",
              "    }\n",
              "\n",
              "    .colab-df-convert {\n",
              "      background-color: #E8F0FE;\n",
              "      border: none;\n",
              "      border-radius: 50%;\n",
              "      cursor: pointer;\n",
              "      display: none;\n",
              "      fill: #1967D2;\n",
              "      height: 32px;\n",
              "      padding: 0 0 0 0;\n",
              "      width: 32px;\n",
              "    }\n",
              "\n",
              "    .colab-df-convert:hover {\n",
              "      background-color: #E2EBFA;\n",
              "      box-shadow: 0px 1px 2px rgba(60, 64, 67, 0.3), 0px 1px 3px 1px rgba(60, 64, 67, 0.15);\n",
              "      fill: #174EA6;\n",
              "    }\n",
              "\n",
              "    .colab-df-buttons div {\n",
              "      margin-bottom: 4px;\n",
              "    }\n",
              "\n",
              "    [theme=dark] .colab-df-convert {\n",
              "      background-color: #3B4455;\n",
              "      fill: #D2E3FC;\n",
              "    }\n",
              "\n",
              "    [theme=dark] .colab-df-convert:hover {\n",
              "      background-color: #434B5C;\n",
              "      box-shadow: 0px 1px 3px 1px rgba(0, 0, 0, 0.15);\n",
              "      filter: drop-shadow(0px 1px 2px rgba(0, 0, 0, 0.3));\n",
              "      fill: #FFFFFF;\n",
              "    }\n",
              "  </style>\n",
              "\n",
              "    <script>\n",
              "      const buttonEl =\n",
              "        document.querySelector('#df-03c0dd4d-9247-4008-98de-bbef3471c090 button.colab-df-convert');\n",
              "      buttonEl.style.display =\n",
              "        google.colab.kernel.accessAllowed ? 'block' : 'none';\n",
              "\n",
              "      async function convertToInteractive(key) {\n",
              "        const element = document.querySelector('#df-03c0dd4d-9247-4008-98de-bbef3471c090');\n",
              "        const dataTable =\n",
              "          await google.colab.kernel.invokeFunction('convertToInteractive',\n",
              "                                                    [key], {});\n",
              "        if (!dataTable) return;\n",
              "\n",
              "        const docLinkHtml = 'Like what you see? Visit the ' +\n",
              "          '<a target=\"_blank\" href=https://colab.research.google.com/notebooks/data_table.ipynb>data table notebook</a>'\n",
              "          + ' to learn more about interactive tables.';\n",
              "        element.innerHTML = '';\n",
              "        dataTable['output_type'] = 'display_data';\n",
              "        await google.colab.output.renderOutput(dataTable, element);\n",
              "        const docLink = document.createElement('div');\n",
              "        docLink.innerHTML = docLinkHtml;\n",
              "        element.appendChild(docLink);\n",
              "      }\n",
              "    </script>\n",
              "  </div>\n",
              "\n",
              "\n",
              "<div id=\"df-3f3008bf-1426-4089-a11a-79d2802229f4\">\n",
              "  <button class=\"colab-df-quickchart\" onclick=\"quickchart('df-3f3008bf-1426-4089-a11a-79d2802229f4')\"\n",
              "            title=\"Suggest charts.\"\n",
              "            style=\"display:none;\">\n",
              "\n",
              "<svg xmlns=\"http://www.w3.org/2000/svg\" height=\"24px\"viewBox=\"0 0 24 24\"\n",
              "     width=\"24px\">\n",
              "    <g>\n",
              "        <path d=\"M19 3H5c-1.1 0-2 .9-2 2v14c0 1.1.9 2 2 2h14c1.1 0 2-.9 2-2V5c0-1.1-.9-2-2-2zM9 17H7v-7h2v7zm4 0h-2V7h2v10zm4 0h-2v-4h2v4z\"/>\n",
              "    </g>\n",
              "</svg>\n",
              "  </button>\n",
              "\n",
              "<style>\n",
              "  .colab-df-quickchart {\n",
              "      --bg-color: #E8F0FE;\n",
              "      --fill-color: #1967D2;\n",
              "      --hover-bg-color: #E2EBFA;\n",
              "      --hover-fill-color: #174EA6;\n",
              "      --disabled-fill-color: #AAA;\n",
              "      --disabled-bg-color: #DDD;\n",
              "  }\n",
              "\n",
              "  [theme=dark] .colab-df-quickchart {\n",
              "      --bg-color: #3B4455;\n",
              "      --fill-color: #D2E3FC;\n",
              "      --hover-bg-color: #434B5C;\n",
              "      --hover-fill-color: #FFFFFF;\n",
              "      --disabled-bg-color: #3B4455;\n",
              "      --disabled-fill-color: #666;\n",
              "  }\n",
              "\n",
              "  .colab-df-quickchart {\n",
              "    background-color: var(--bg-color);\n",
              "    border: none;\n",
              "    border-radius: 50%;\n",
              "    cursor: pointer;\n",
              "    display: none;\n",
              "    fill: var(--fill-color);\n",
              "    height: 32px;\n",
              "    padding: 0;\n",
              "    width: 32px;\n",
              "  }\n",
              "\n",
              "  .colab-df-quickchart:hover {\n",
              "    background-color: var(--hover-bg-color);\n",
              "    box-shadow: 0 1px 2px rgba(60, 64, 67, 0.3), 0 1px 3px 1px rgba(60, 64, 67, 0.15);\n",
              "    fill: var(--button-hover-fill-color);\n",
              "  }\n",
              "\n",
              "  .colab-df-quickchart-complete:disabled,\n",
              "  .colab-df-quickchart-complete:disabled:hover {\n",
              "    background-color: var(--disabled-bg-color);\n",
              "    fill: var(--disabled-fill-color);\n",
              "    box-shadow: none;\n",
              "  }\n",
              "\n",
              "  .colab-df-spinner {\n",
              "    border: 2px solid var(--fill-color);\n",
              "    border-color: transparent;\n",
              "    border-bottom-color: var(--fill-color);\n",
              "    animation:\n",
              "      spin 1s steps(1) infinite;\n",
              "  }\n",
              "\n",
              "  @keyframes spin {\n",
              "    0% {\n",
              "      border-color: transparent;\n",
              "      border-bottom-color: var(--fill-color);\n",
              "      border-left-color: var(--fill-color);\n",
              "    }\n",
              "    20% {\n",
              "      border-color: transparent;\n",
              "      border-left-color: var(--fill-color);\n",
              "      border-top-color: var(--fill-color);\n",
              "    }\n",
              "    30% {\n",
              "      border-color: transparent;\n",
              "      border-left-color: var(--fill-color);\n",
              "      border-top-color: var(--fill-color);\n",
              "      border-right-color: var(--fill-color);\n",
              "    }\n",
              "    40% {\n",
              "      border-color: transparent;\n",
              "      border-right-color: var(--fill-color);\n",
              "      border-top-color: var(--fill-color);\n",
              "    }\n",
              "    60% {\n",
              "      border-color: transparent;\n",
              "      border-right-color: var(--fill-color);\n",
              "    }\n",
              "    80% {\n",
              "      border-color: transparent;\n",
              "      border-right-color: var(--fill-color);\n",
              "      border-bottom-color: var(--fill-color);\n",
              "    }\n",
              "    90% {\n",
              "      border-color: transparent;\n",
              "      border-bottom-color: var(--fill-color);\n",
              "    }\n",
              "  }\n",
              "</style>\n",
              "\n",
              "  <script>\n",
              "    async function quickchart(key) {\n",
              "      const quickchartButtonEl =\n",
              "        document.querySelector('#' + key + ' button');\n",
              "      quickchartButtonEl.disabled = true;  // To prevent multiple clicks.\n",
              "      quickchartButtonEl.classList.add('colab-df-spinner');\n",
              "      try {\n",
              "        const charts = await google.colab.kernel.invokeFunction(\n",
              "            'suggestCharts', [key], {});\n",
              "      } catch (error) {\n",
              "        console.error('Error during call to suggestCharts:', error);\n",
              "      }\n",
              "      quickchartButtonEl.classList.remove('colab-df-spinner');\n",
              "      quickchartButtonEl.classList.add('colab-df-quickchart-complete');\n",
              "    }\n",
              "    (() => {\n",
              "      let quickchartButtonEl =\n",
              "        document.querySelector('#df-3f3008bf-1426-4089-a11a-79d2802229f4 button');\n",
              "      quickchartButtonEl.style.display =\n",
              "        google.colab.kernel.accessAllowed ? 'block' : 'none';\n",
              "    })();\n",
              "  </script>\n",
              "</div>\n",
              "    </div>\n",
              "  </div>\n"
            ]
          },
          "metadata": {},
          "execution_count": 14
        }
      ]
    },
    {
      "cell_type": "code",
      "source": [
        "c_df['move'] = c_df.apply(lambda row: 1 if row['Left_c'] == 1 and row['Right_c'] == 1 else 0, axis=1)\n"
      ],
      "metadata": {
        "id": "ZB9hVzM3Bcov"
      },
      "execution_count": null,
      "outputs": []
    },
    {
      "cell_type": "code",
      "source": [
        "c_df.drop(['Left_c', 'Right_c'], axis=1, inplace=True)"
      ],
      "metadata": {
        "id": "nVOGs820BY6j"
      },
      "execution_count": null,
      "outputs": []
    },
    {
      "cell_type": "code",
      "source": [
        "#c_df.drop(['CEP_w', 'CEV_w','CEA_w','CEAV_w'], axis=1, inplace=True)"
      ],
      "metadata": {
        "id": "SZsV0oczBZMm"
      },
      "execution_count": null,
      "outputs": []
    },
    {
      "cell_type": "code",
      "source": [
        "from sklearn.model_selection import train_test_split\n",
        "\n",
        "X = c_df.drop(['move'], axis=1)  # Features (all columns except 'move')\n",
        "y = c_df['move']  # Target column"
      ],
      "metadata": {
        "id": "xB7AnfQaBZeA"
      },
      "execution_count": null,
      "outputs": []
    },
    {
      "cell_type": "code",
      "source": [
        "#selected_features = ['CEP_x','CEP_y','CEP_z','CEV_x','CEV_z','CEA_z','CER_y','CER_w','CEAV_x']\n",
        "#X_selected = df[selected_features]\n",
        "\n",
        "# Split the data into training and testing sets\n",
        "X_train, X_test, y_train, y_test = train_test_split(X, y, test_size=0.2, random_state=42)"
      ],
      "metadata": {
        "id": "S-Z628EQBZ2U"
      },
      "execution_count": null,
      "outputs": []
    },
    {
      "cell_type": "code",
      "source": [
        "# x is numpy array of shape (n,sample columns)\n",
        "# y is numpy array of shape (n,...)\n",
        "def roll_data(x,y,window_len,step=1):\n",
        "    out_len=x.shape[0]-(window_len-1)\n",
        "    retval=np.zeros((out_len,window_len,x.shape[1]))\n",
        "    for c in range(window_len):\n",
        "        retval[:out_len,c,:]=x[c:c+out_len,:]\n",
        "    return retval,y[window_len-1:]"
      ],
      "metadata": {
        "id": "hZllHBBxCiFi"
      },
      "execution_count": null,
      "outputs": []
    },
    {
      "cell_type": "code",
      "source": [
        "def unison_shuffled_copies(a, b):\n",
        "    assert len(a) == len(b)\n",
        "    p = np.random.permutation(len(a))\n",
        "    return a[p], b[p]"
      ],
      "metadata": {
        "id": "qoK8aRdKCibn"
      },
      "execution_count": null,
      "outputs": []
    },
    {
      "cell_type": "code",
      "source": [
        "print(X_train,y_train)"
      ],
      "metadata": {
        "colab": {
          "base_uri": "https://localhost:8080/"
        },
        "id": "4qvIE8NsCilg",
        "outputId": "81b43685-47c8-4190-ef35-9a0338cdb361"
      },
      "execution_count": null,
      "outputs": [
        {
          "output_type": "stream",
          "name": "stdout",
          "text": [
            "       CEP_x  CEP_y  CEP_z  CEAV_x  CEAV_y  CEAV_z\n",
            "8476   -0.05   0.79   0.50    0.03   -0.12    0.01\n",
            "4463   -0.01   0.90  -0.08    0.02    0.03   -0.02\n",
            "2332   -0.05   0.82   0.35   -0.32    0.00    0.00\n",
            "11816   0.02   0.91  -0.38    0.06    0.07   -0.04\n",
            "374    -0.09   0.79   0.37   -0.18    0.00   -0.07\n",
            "...      ...    ...    ...     ...     ...     ...\n",
            "3044    0.02   0.90  -0.34   -0.08    0.00    0.07\n",
            "11271  -0.05   0.79   0.12    0.18    0.15   -0.01\n",
            "5390   -0.02   0.90  -0.20    0.07   -0.02   -0.07\n",
            "860    -0.05   0.81   0.58    0.16   -0.14   -0.07\n",
            "4784   -0.03   0.87  -0.28   -0.26    0.02    0.10\n",
            "\n",
            "[26216 rows x 6 columns] 8476     0\n",
            "4463     0\n",
            "2332     0\n",
            "11816    1\n",
            "374      0\n",
            "        ..\n",
            "3044     1\n",
            "11271    0\n",
            "5390     1\n",
            "860      0\n",
            "4784     0\n",
            "Name: move, Length: 26216, dtype: int64\n"
          ]
        }
      ]
    },
    {
      "cell_type": "code",
      "source": [
        "X_train=X_train.to_numpy()\n",
        "y_train=y_train.to_numpy()\n",
        "\n",
        "print(\"Final dataset:\",X_train.shape,y_train.shape)"
      ],
      "metadata": {
        "colab": {
          "base_uri": "https://localhost:8080/"
        },
        "id": "L_SGNVuwDhl-",
        "outputId": "d3ecf436-a307-430d-8783-0d5161c3b4b7"
      },
      "execution_count": null,
      "outputs": [
        {
          "output_type": "stream",
          "name": "stdout",
          "text": [
            "Final dataset: (26216, 6) (26216,)\n"
          ]
        }
      ]
    },
    {
      "cell_type": "code",
      "source": [
        "unroll_amount=512\n",
        "\n",
        "X_train,y_train=roll_data(X_train,y_train,unroll_amount)\n",
        "\n",
        "X_train_unshuffled=X_train\n",
        "y_train_unshuffled=y_train\n",
        "X_train,y_train=unison_shuffled_copies(X_train,y_train)"
      ],
      "metadata": {
        "id": "lKolYrZ6E7rQ"
      },
      "execution_count": null,
      "outputs": []
    },
    {
      "cell_type": "code",
      "source": [
        "model=tf.keras.Sequential([\n",
        "    layers.Input(shape=(X_train.shape[1:])),\n",
        "    layers.BatchNormalization(axis=-1),\n",
        "    layers.Flatten(),\n",
        "    layers.Dense(256,activation='relu'),\n",
        "    layers.Dropout(0.1),\n",
        "    layers.Dense(64,activation='relu'),\n",
        "    layers.Dropout(0.1),\n",
        "    layers.Dense(1,activation='sigmoid') # rectified unit so as not to return any rpm <0\n",
        "]\n",
        ")"
      ],
      "metadata": {
        "id": "FIOMK3yNFhKE"
      },
      "execution_count": null,
      "outputs": []
    },
    {
      "cell_type": "code",
      "source": [
        "model.compile(optimizer='adam',\n",
        "              loss='binary_crossentropy',\n",
        "              metrics=['accuracy'])\n",
        "\n",
        "model.summary()"
      ],
      "metadata": {
        "colab": {
          "base_uri": "https://localhost:8080/"
        },
        "id": "GO7ef4YmFhjE",
        "outputId": "b4a3f84f-af1b-43cd-8034-0c4303972b26"
      },
      "execution_count": null,
      "outputs": [
        {
          "output_type": "stream",
          "name": "stdout",
          "text": [
            "Model: \"sequential_1\"\n",
            "_________________________________________________________________\n",
            " Layer (type)                Output Shape              Param #   \n",
            "=================================================================\n",
            " batch_normalization_1 (Batc  (None, 512, 6)           24        \n",
            " hNormalization)                                                 \n",
            "                                                                 \n",
            " flatten_1 (Flatten)         (None, 3072)              0         \n",
            "                                                                 \n",
            " dense_3 (Dense)             (None, 256)               786688    \n",
            "                                                                 \n",
            " dropout_2 (Dropout)         (None, 256)               0         \n",
            "                                                                 \n",
            " dense_4 (Dense)             (None, 64)                16448     \n",
            "                                                                 \n",
            " dropout_3 (Dropout)         (None, 64)                0         \n",
            "                                                                 \n",
            " dense_5 (Dense)             (None, 1)                 65        \n",
            "                                                                 \n",
            "=================================================================\n",
            "Total params: 803,225\n",
            "Trainable params: 803,213\n",
            "Non-trainable params: 12\n",
            "_________________________________________________________________\n"
          ]
        }
      ]
    },
    {
      "cell_type": "code",
      "source": [
        "def train_fn():\n",
        "    model.fit(X_train,y_train,epochs=20,batch_size=512,shuffle=True)"
      ],
      "metadata": {
        "id": "zI-1mh5YGTCo"
      },
      "execution_count": null,
      "outputs": []
    },
    {
      "cell_type": "code",
      "source": [
        "X_test=X_test.to_numpy()\n",
        "y_test=y_test.to_numpy()\n",
        "\n",
        "print(\"Final dataset:\",X_test.shape,y_test.shape)\n",
        "\n",
        "\n",
        "\n",
        "X_test,y_test=roll_data(X_test,y_test,unroll_amount)\n",
        "\n",
        "X_test_unshuffled=X_test\n",
        "y_test_unshuffled=y_test\n",
        "X_test,y_test=unison_shuffled_copies(X_test,y_test)"
      ],
      "metadata": {
        "colab": {
          "base_uri": "https://localhost:8080/"
        },
        "id": "b9jxAO8288bN",
        "outputId": "0e201958-5db8-40ce-842e-087e9d44150d"
      },
      "execution_count": null,
      "outputs": [
        {
          "output_type": "stream",
          "name": "stdout",
          "text": [
            "Final dataset: (6554, 6) (6554,)\n"
          ]
        }
      ]
    },
    {
      "cell_type": "code",
      "source": [
        "train_thread=threading.Thread(target=train_fn)\n",
        "train_thread.start()\n",
        "plt.show()\n",
        "train_thread.join()  # Wait for the training to complete\n",
        "\n",
        "# Evaluate the model\n",
        "test_loss, test_accuracy = model.evaluate(X_test, y_test, batch_size=512)\n",
        "print(f\"Test accuracy: {test_accuracy * 100:.2f}%\")\n",
        "print(f\"Test loss: {test_loss}\")"
      ],
      "metadata": {
        "colab": {
          "base_uri": "https://localhost:8080/"
        },
        "id": "d0Gh0tLAGrYS",
        "outputId": "67b2750b-a1f9-4361-9255-ee5ac2b19d0d"
      },
      "execution_count": null,
      "outputs": [
        {
          "output_type": "stream",
          "name": "stdout",
          "text": [
            "Epoch 1/20\n",
            "51/51 [==============================] - 6s 98ms/step - loss: 0.6026 - accuracy: 0.6857\n",
            "Epoch 2/20\n",
            "51/51 [==============================] - 7s 134ms/step - loss: 0.2720 - accuracy: 0.8927\n",
            "Epoch 3/20\n",
            "51/51 [==============================] - 5s 95ms/step - loss: 0.1237 - accuracy: 0.9571\n",
            "Epoch 4/20\n",
            "51/51 [==============================] - 6s 111ms/step - loss: 0.0587 - accuracy: 0.9827\n",
            "Epoch 5/20\n",
            "51/51 [==============================] - 6s 121ms/step - loss: 0.0385 - accuracy: 0.9874\n",
            "Epoch 6/20\n",
            "51/51 [==============================] - 5s 93ms/step - loss: 0.0259 - accuracy: 0.9917\n",
            "Epoch 7/20\n",
            "51/51 [==============================] - 6s 125ms/step - loss: 0.0183 - accuracy: 0.9944\n",
            "Epoch 8/20\n",
            "51/51 [==============================] - 5s 106ms/step - loss: 0.0199 - accuracy: 0.9936\n",
            "Epoch 9/20\n",
            "51/51 [==============================] - 5s 99ms/step - loss: 0.0137 - accuracy: 0.9961\n",
            "Epoch 10/20\n",
            "51/51 [==============================] - 8s 164ms/step - loss: 0.0122 - accuracy: 0.9961\n",
            "Epoch 11/20\n",
            "51/51 [==============================] - 5s 97ms/step - loss: 0.0081 - accuracy: 0.9976\n",
            "Epoch 12/20\n",
            "51/51 [==============================] - 7s 136ms/step - loss: 0.0054 - accuracy: 0.9986\n",
            "Epoch 13/20\n",
            "51/51 [==============================] - 6s 118ms/step - loss: 0.0046 - accuracy: 0.9986\n",
            "Epoch 14/20\n",
            "51/51 [==============================] - 5s 97ms/step - loss: 0.0046 - accuracy: 0.9984\n",
            "Epoch 15/20\n",
            "51/51 [==============================] - 7s 133ms/step - loss: 0.0071 - accuracy: 0.9977\n",
            "Epoch 16/20\n",
            "51/51 [==============================] - 5s 100ms/step - loss: 0.0070 - accuracy: 0.9977\n",
            "Epoch 17/20\n",
            "51/51 [==============================] - 5s 98ms/step - loss: 0.0071 - accuracy: 0.9978\n",
            "Epoch 18/20\n",
            "51/51 [==============================] - 7s 141ms/step - loss: 0.0072 - accuracy: 0.9979\n",
            "Epoch 19/20\n",
            "51/51 [==============================] - 5s 97ms/step - loss: 0.0089 - accuracy: 0.9968\n",
            "Epoch 20/20\n",
            "51/51 [==============================] - 5s 104ms/step - loss: 0.0117 - accuracy: 0.9961\n",
            "12/12 [==============================] - 1s 47ms/step - loss: 0.9054 - accuracy: 0.8049\n",
            "Test accuracy: 80.49%\n",
            "Test loss: 0.9054250121116638\n"
          ]
        }
      ]
    },
    {
      "cell_type": "markdown",
      "source": [
        "from google.colab import files"
      ],
      "metadata": {
        "id": "f_8SmbysI_tJ"
      }
    },
    {
      "cell_type": "code",
      "source": [
        "#model.save('outputs/saved_model_{epoch}')\n",
        "converter = tf.lite.TFLiteConverter.from_keras_model(model)\n",
        "tflite_model = converter.convert()\n",
        "with open('model_fin.tflite', 'wb') as f:\n",
        "    f.write(tflite_model)\n",
        "           # with open(f'outputs/model_please.tflite', 'wb') as f:\n",
        "            #    f.write(tflite_model)"
      ],
      "metadata": {
        "colab": {
          "base_uri": "https://localhost:8080/"
        },
        "id": "lI_pTuLJMByk",
        "outputId": "ed08c52d-49c5-461a-90d5-1e81c2f7137f"
      },
      "execution_count": null,
      "outputs": [
        {
          "output_type": "stream",
          "name": "stdout",
          "text": [
            "\b\b\b\b\b\b\b\b\b\b\b\b\b\b\b\b\b\b\b\b\b\b\b\b\b\b\b\b\b\b\b\b\b\b\b\b\b\b\b\b\b\b\b\b\b\b\b\b\b\b\b\b\b\b\b\b\b\b\b\b\b\b\b\b\b\b\b\b\b\b\b\b\b\b\b\b\b\b\b\b\b\b\r31/51 [=================>............] - ETA: 1s - loss: 0.0266 - accuracy: 0.9907"
          ]
        },
        {
          "output_type": "stream",
          "name": "stderr",
          "text": [
            "Exception in thread Thread-11 (train_fn):\n",
            "Traceback (most recent call last):\n",
            "  File \"/usr/lib/python3.10/threading.py\", line 1016, in _bootstrap_inner\n",
            "    self.run()\n",
            "  File \"/usr/lib/python3.10/threading.py\", line 953, in run\n",
            "    self._target(*self._args, **self._kwargs)\n",
            "  File \"<ipython-input-43-72e4501e3900>\", line 2, in train_fn\n",
            "  File \"/usr/local/lib/python3.10/dist-packages/keras/utils/traceback_utils.py\", line 70, in error_handler\n",
            "    raise e.with_traceback(filtered_tb) from None\n",
            "  File \"/usr/local/lib/python3.10/dist-packages/keras/engine/training.py\", line 1685, in fit\n",
            "    tmp_logs = self.train_function(iterator)\n",
            "TypeError: 'NoneType' object is not callable\n",
            "WARNING:absl:Found untraced functions such as _update_step_xla while saving (showing 1 of 1). These functions will not be directly callable after loading.\n"
          ]
        }
      ]
    },
    {
      "cell_type": "code",
      "source": [
        "from google.colab import files\n",
        "files.download('model_fin.tflite')"
      ],
      "metadata": {
        "colab": {
          "base_uri": "https://localhost:8080/",
          "height": 17
        },
        "id": "Cjbq7gMrI_8d",
        "outputId": "9d0412c1-50af-42d9-d3fe-0dcef7ca85bc"
      },
      "execution_count": null,
      "outputs": [
        {
          "output_type": "display_data",
          "data": {
            "text/plain": [
              "<IPython.core.display.Javascript object>"
            ],
            "application/javascript": [
              "\n",
              "    async function download(id, filename, size) {\n",
              "      if (!google.colab.kernel.accessAllowed) {\n",
              "        return;\n",
              "      }\n",
              "      const div = document.createElement('div');\n",
              "      const label = document.createElement('label');\n",
              "      label.textContent = `Downloading \"${filename}\": `;\n",
              "      div.appendChild(label);\n",
              "      const progress = document.createElement('progress');\n",
              "      progress.max = size;\n",
              "      div.appendChild(progress);\n",
              "      document.body.appendChild(div);\n",
              "\n",
              "      const buffers = [];\n",
              "      let downloaded = 0;\n",
              "\n",
              "      const channel = await google.colab.kernel.comms.open(id);\n",
              "      // Send a message to notify the kernel that we're ready.\n",
              "      channel.send({})\n",
              "\n",
              "      for await (const message of channel.messages) {\n",
              "        // Send a message to notify the kernel that we're ready.\n",
              "        channel.send({})\n",
              "        if (message.buffers) {\n",
              "          for (const buffer of message.buffers) {\n",
              "            buffers.push(buffer);\n",
              "            downloaded += buffer.byteLength;\n",
              "            progress.value = downloaded;\n",
              "          }\n",
              "        }\n",
              "      }\n",
              "      const blob = new Blob(buffers, {type: 'application/binary'});\n",
              "      const a = document.createElement('a');\n",
              "      a.href = window.URL.createObjectURL(blob);\n",
              "      a.download = filename;\n",
              "      div.appendChild(a);\n",
              "      a.click();\n",
              "      div.remove();\n",
              "    }\n",
              "  "
            ]
          },
          "metadata": {}
        },
        {
          "output_type": "display_data",
          "data": {
            "text/plain": [
              "<IPython.core.display.Javascript object>"
            ],
            "application/javascript": [
              "download(\"download_b6f424ae-5964-494f-ac44-6930081e6040\", \"model_fin.tflite\", 3215816)"
            ]
          },
          "metadata": {}
        }
      ]
    },
    {
      "cell_type": "code",
      "source": [
        "pip install tf2onnx"
      ],
      "metadata": {
        "colab": {
          "base_uri": "https://localhost:8080/"
        },
        "id": "FpInLAmfw9Ds",
        "outputId": "ed0f47ca-92ff-4dd2-9304-f62ee7f6d4fe"
      },
      "execution_count": null,
      "outputs": [
        {
          "output_type": "stream",
          "name": "stdout",
          "text": [
            "Collecting tf2onnx\n",
            "  Downloading tf2onnx-1.15.1-py3-none-any.whl (454 kB)\n",
            "\u001b[?25l     \u001b[90m━━━━━━━━━━━━━━━━━━━━━━━━━━━━━━━━━━━━━━━━\u001b[0m \u001b[32m0.0/454.7 kB\u001b[0m \u001b[31m?\u001b[0m eta \u001b[36m-:--:--\u001b[0m\r\u001b[2K     \u001b[91m━━━━━━━━━\u001b[0m\u001b[91m╸\u001b[0m\u001b[90m━━━━━━━━━━━━━━━━━━━━━━━━━━━━━\u001b[0m \u001b[32m112.6/454.7 kB\u001b[0m \u001b[31m3.4 MB/s\u001b[0m eta \u001b[36m0:00:01\u001b[0m\r\u001b[2K     \u001b[91m━━━━━━━━━━━━━━━━━━━━━━━━━━━━━━━\u001b[0m\u001b[91m╸\u001b[0m\u001b[90m━━━━━━━\u001b[0m \u001b[32m368.6/454.7 kB\u001b[0m \u001b[31m5.4 MB/s\u001b[0m eta \u001b[36m0:00:01\u001b[0m\r\u001b[2K     \u001b[90m━━━━━━━━━━━━━━━━━━━━━━━━━━━━━━━━━━━━━━━\u001b[0m \u001b[32m454.7/454.7 kB\u001b[0m \u001b[31m5.0 MB/s\u001b[0m eta \u001b[36m0:00:00\u001b[0m\n",
            "\u001b[?25hRequirement already satisfied: numpy>=1.14.1 in /usr/local/lib/python3.10/dist-packages (from tf2onnx) (1.23.5)\n",
            "Collecting onnx>=1.4.1 (from tf2onnx)\n",
            "  Downloading onnx-1.14.1-cp310-cp310-manylinux_2_17_x86_64.manylinux2014_x86_64.whl (14.6 MB)\n",
            "\u001b[2K     \u001b[90m━━━━━━━━━━━━━━━━━━━━━━━━━━━━━━━━━━━━━━━━\u001b[0m \u001b[32m14.6/14.6 MB\u001b[0m \u001b[31m13.4 MB/s\u001b[0m eta \u001b[36m0:00:00\u001b[0m\n",
            "\u001b[?25hRequirement already satisfied: requests in /usr/local/lib/python3.10/dist-packages (from tf2onnx) (2.31.0)\n",
            "Requirement already satisfied: six in /usr/local/lib/python3.10/dist-packages (from tf2onnx) (1.16.0)\n",
            "Requirement already satisfied: flatbuffers>=1.12 in /usr/local/lib/python3.10/dist-packages (from tf2onnx) (23.5.26)\n",
            "Requirement already satisfied: protobuf~=3.20.2 in /usr/local/lib/python3.10/dist-packages (from tf2onnx) (3.20.3)\n",
            "Requirement already satisfied: typing-extensions>=3.6.2.1 in /usr/local/lib/python3.10/dist-packages (from onnx>=1.4.1->tf2onnx) (4.7.1)\n",
            "Requirement already satisfied: charset-normalizer<4,>=2 in /usr/local/lib/python3.10/dist-packages (from requests->tf2onnx) (3.2.0)\n",
            "Requirement already satisfied: idna<4,>=2.5 in /usr/local/lib/python3.10/dist-packages (from requests->tf2onnx) (3.4)\n",
            "Requirement already satisfied: urllib3<3,>=1.21.1 in /usr/local/lib/python3.10/dist-packages (from requests->tf2onnx) (2.0.4)\n",
            "Requirement already satisfied: certifi>=2017.4.17 in /usr/local/lib/python3.10/dist-packages (from requests->tf2onnx) (2023.7.22)\n",
            "Installing collected packages: onnx, tf2onnx\n",
            "Successfully installed onnx-1.14.1 tf2onnx-1.15.1\n"
          ]
        }
      ]
    },
    {
      "cell_type": "code",
      "source": [
        "import tf2onnx\n",
        "\n",
        "# Converting the model to ONNX format\n",
        "onnx_model, _ = tf2onnx.convert.from_keras(model,\n",
        "                                           input_signature=[tf.TensorSpec(shape=[None,X_train.shape[1],6], dtype=tf.float32, name=\"input\")],\n",
        "                                           opset=13)\n",
        "\n",
        "# Saving the ONNX model to a file\n",
        "with open(\"model_finon.onnx\", \"wb\") as f:\n",
        "    f.write(onnx_model.SerializeToString())"
      ],
      "metadata": {
        "id": "WDwZde6zJAMh"
      },
      "execution_count": null,
      "outputs": []
    },
    {
      "cell_type": "code",
      "source": [
        "files.download('model_finon.onnx')"
      ],
      "metadata": {
        "colab": {
          "base_uri": "https://localhost:8080/",
          "height": 17
        },
        "id": "VMMvk3z71EBE",
        "outputId": "c5769bcb-49fa-4ecf-dbc0-06fcff8981b7"
      },
      "execution_count": null,
      "outputs": [
        {
          "output_type": "display_data",
          "data": {
            "text/plain": [
              "<IPython.core.display.Javascript object>"
            ],
            "application/javascript": [
              "\n",
              "    async function download(id, filename, size) {\n",
              "      if (!google.colab.kernel.accessAllowed) {\n",
              "        return;\n",
              "      }\n",
              "      const div = document.createElement('div');\n",
              "      const label = document.createElement('label');\n",
              "      label.textContent = `Downloading \"${filename}\": `;\n",
              "      div.appendChild(label);\n",
              "      const progress = document.createElement('progress');\n",
              "      progress.max = size;\n",
              "      div.appendChild(progress);\n",
              "      document.body.appendChild(div);\n",
              "\n",
              "      const buffers = [];\n",
              "      let downloaded = 0;\n",
              "\n",
              "      const channel = await google.colab.kernel.comms.open(id);\n",
              "      // Send a message to notify the kernel that we're ready.\n",
              "      channel.send({})\n",
              "\n",
              "      for await (const message of channel.messages) {\n",
              "        // Send a message to notify the kernel that we're ready.\n",
              "        channel.send({})\n",
              "        if (message.buffers) {\n",
              "          for (const buffer of message.buffers) {\n",
              "            buffers.push(buffer);\n",
              "            downloaded += buffer.byteLength;\n",
              "            progress.value = downloaded;\n",
              "          }\n",
              "        }\n",
              "      }\n",
              "      const blob = new Blob(buffers, {type: 'application/binary'});\n",
              "      const a = document.createElement('a');\n",
              "      a.href = window.URL.createObjectURL(blob);\n",
              "      a.download = filename;\n",
              "      div.appendChild(a);\n",
              "      a.click();\n",
              "      div.remove();\n",
              "    }\n",
              "  "
            ]
          },
          "metadata": {}
        },
        {
          "output_type": "display_data",
          "data": {
            "text/plain": [
              "<IPython.core.display.Javascript object>"
            ],
            "application/javascript": [
              "download(\"download_72c34541-35b1-49d9-8cfc-4e9d2fd3f1d6\", \"model_finon.onnx\", 3215083)"
            ]
          },
          "metadata": {}
        }
      ]
    }
  ]
}